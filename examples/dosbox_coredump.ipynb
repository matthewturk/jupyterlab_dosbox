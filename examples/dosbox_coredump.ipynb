{
 "cells": [
  {
   "cell_type": "markdown",
   "id": "heard-moscow",
   "metadata": {},
   "source": [
    "# Exploring our DOS environment\n",
    "\n",
    "First we import our extension and ask it to \"pop out.\"  This will put the dosbox widget itself in a different tab in Jupyterlab, and it'll also add a browser on the left had side for the files in its temporary filesystem."
   ]
  },
  {
   "cell_type": "code",
   "execution_count": null,
   "id": "auburn-findings",
   "metadata": {},
   "outputs": [],
   "source": [
    "import jupyterlab_dosbox, pooch\n",
    "db = jupyterlab_dosbox.DosboxModel()\n",
    "db"
   ]
  },
  {
   "cell_type": "markdown",
   "id": "figured-scholar",
   "metadata": {},
   "source": [
    "Now, let's send over a zip file from the Archive of one of my favorite DOS games, McMurphy's Mansion."
   ]
  },
  {
   "cell_type": "code",
   "execution_count": null,
   "id": "collectible-broad",
   "metadata": {},
   "outputs": [],
   "source": [
    "URL = \"https://archive.org/download/msdos_McMurphys_Mansion_1984/McMurphys_Mansion_1984.zip\"\n",
    "SHA256SUM = \"ce54f7a42d6513010d6c737465b4ef59c09634de2db3f0b1b0f66963ef3cb98b\"\n",
    "fn = pooch.retrieve(URL, SHA256SUM)\n",
    "db.send_zip(fn)"
   ]
  },
  {
   "cell_type": "markdown",
   "id": "sporting-plate",
   "metadata": {},
   "source": [
    "Now let's make it play the game!  You can also browse the file explorer on the left to see what was just unzipped."
   ]
  },
  {
   "cell_type": "code",
   "execution_count": null,
   "id": "retained-aquatic",
   "metadata": {},
   "outputs": [],
   "source": [
    "db.send_command(\"cd mcmurphy\")\n",
    "db.send_command(\"mcmurphy\")"
   ]
  },
  {
   "cell_type": "markdown",
   "id": "institutional-apple",
   "metadata": {},
   "source": [
    "We can ask Dosbox for a coredump of the main memory.  This should be a snapshot in time when it was accessed; it'll have register info as well as pointers to different areas on the stack."
   ]
  },
  {
   "cell_type": "code",
   "execution_count": null,
   "id": "institutional-hotel",
   "metadata": {},
   "outputs": [],
   "source": [
    "db.coredump()"
   ]
  },
  {
   "cell_type": "markdown",
   "id": "dedicated-hepatitis",
   "metadata": {},
   "source": [
    "Let's get a view of it as a `uint8` array..."
   ]
  },
  {
   "cell_type": "code",
   "execution_count": null,
   "id": "a2e296ed-aedf-4ffa-8095-7d83019651da",
   "metadata": {},
   "outputs": [],
   "source": [
    "db.coredumps[0].memBase"
   ]
  },
  {
   "cell_type": "code",
   "execution_count": 1,
   "id": "29fa7ff6-f8ec-41c3-ac1c-b7cdfa5dadc1",
   "metadata": {},
   "outputs": [
    {
     "ename": "NameError",
     "evalue": "name 'db' is not defined",
     "output_type": "error",
     "traceback": [
      "\u001b[0;31m---------------------------------------------------------------------------\u001b[0m",
      "\u001b[0;31mNameError\u001b[0m                                 Traceback (most recent call last)",
      "\u001b[0;32m<ipython-input-1-d542d0c2cd9b>\u001b[0m in \u001b[0;36m<module>\u001b[0;34m\u001b[0m\n\u001b[0;32m----> 1\u001b[0;31m \u001b[0mdb\u001b[0m\u001b[0;34m.\u001b[0m\u001b[0mcoredumps\u001b[0m\u001b[0;34m[\u001b[0m\u001b[0;36m0\u001b[0m\u001b[0;34m]\u001b[0m\u001b[0;34m.\u001b[0m\u001b[0msegments_physical\u001b[0m\u001b[0;34m\u001b[0m\u001b[0;34m\u001b[0m\u001b[0m\n\u001b[0m",
      "\u001b[0;31mNameError\u001b[0m: name 'db' is not defined"
     ]
    }
   ],
   "source": [
    "db.coredumps[0].segments_physical"
   ]
  },
  {
   "cell_type": "code",
   "execution_count": null,
   "id": "88fac54a-c61b-4de0-b28f-1392927df59c",
   "metadata": {},
   "outputs": [],
   "source": []
  }
 ],
 "metadata": {
  "kernelspec": {
   "display_name": "py38",
   "language": "python",
   "name": "py38"
  },
  "language_info": {
   "codemirror_mode": {
    "name": "ipython",
    "version": 3
   },
   "file_extension": ".py",
   "mimetype": "text/x-python",
   "name": "python",
   "nbconvert_exporter": "python",
   "pygments_lexer": "ipython3",
   "version": "3.8.6"
  }
 },
 "nbformat": 4,
 "nbformat_minor": 5
}
