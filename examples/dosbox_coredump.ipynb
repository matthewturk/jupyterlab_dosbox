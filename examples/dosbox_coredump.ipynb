{
 "cells": [
  {
   "cell_type": "markdown",
   "id": "heard-moscow",
   "metadata": {},
   "source": [
    "# Exploring our DOS environment\n",
    "\n",
    "First we import our extension and ask it to \"pop out.\"  This will put the dosbox widget itself in a different tab in Jupyterlab, and it'll also add a browser on the left had side for the files in its temporary filesystem."
   ]
  },
  {
   "cell_type": "code",
   "execution_count": 1,
   "id": "auburn-findings",
   "metadata": {},
   "outputs": [],
   "source": [
    "import jupyterlab_dosbox, pooch\n",
    "db = jupyterlab_dosbox.DosboxModel()\n",
    "db.pop_out()"
   ]
  },
  {
   "cell_type": "markdown",
   "id": "figured-scholar",
   "metadata": {},
   "source": [
    "Now, let's send over a zip file from the Archive of one of my favorite DOS games, McMurphy's Mansion."
   ]
  },
  {
   "cell_type": "code",
   "execution_count": 2,
   "id": "collectible-broad",
   "metadata": {},
   "outputs": [
    {
     "name": "stdout",
     "output_type": "stream",
     "text": [
      "Sending buffer of length 8.671e+04 bytes\n"
     ]
    }
   ],
   "source": [
    "URL = \"https://archive.org/download/msdos_McMurphys_Mansion_1984/McMurphys_Mansion_1984.zip\"\n",
    "SHA256SUM = \"ce54f7a42d6513010d6c737465b4ef59c09634de2db3f0b1b0f66963ef3cb98b\"\n",
    "fn = pooch.retrieve(URL, SHA256SUM)\n",
    "db.send_zip(fn)"
   ]
  },
  {
   "cell_type": "markdown",
   "id": "sporting-plate",
   "metadata": {},
   "source": [
    "Now let's make it play the game!  You can also browse the file explorer on the left to see what was just unzipped."
   ]
  },
  {
   "cell_type": "code",
   "execution_count": 3,
   "id": "retained-aquatic",
   "metadata": {},
   "outputs": [],
   "source": [
    "db.send_command(\"cd mcmurphy\")\n",
    "db.send_command(\"mcmurphy\")"
   ]
  },
  {
   "cell_type": "markdown",
   "id": "institutional-apple",
   "metadata": {},
   "source": [
    "We can ask Dosbox for a coredump of the main memory.  This should be a snapshot in time when it was accessed; it'll have register info as well as pointers to different areas on the stack."
   ]
  },
  {
   "cell_type": "code",
   "execution_count": 4,
   "id": "institutional-hotel",
   "metadata": {},
   "outputs": [],
   "source": [
    "db.coredump(full_memory=True)"
   ]
  },
  {
   "cell_type": "markdown",
   "id": "dedicated-hepatitis",
   "metadata": {},
   "source": [
    "Let's get a view of it as a `uint8` array..."
   ]
  },
  {
   "cell_type": "code",
   "execution_count": 5,
   "id": "revolutionary-sitting",
   "metadata": {},
   "outputs": [],
   "source": [
    "cdump = db.last_coredump"
   ]
  },
  {
   "cell_type": "markdown",
   "id": "chinese-accommodation",
   "metadata": {},
   "source": [
    "And for good measure, let's take a screenshot."
   ]
  },
  {
   "cell_type": "code",
   "execution_count": 6,
   "id": "right-tsunami",
   "metadata": {},
   "outputs": [],
   "source": [
    "db.screenshot()"
   ]
  },
  {
   "cell_type": "code",
   "execution_count": 7,
   "id": "hundred-orleans",
   "metadata": {},
   "outputs": [
    {
     "data": {
      "text/plain": [
       "<matplotlib.image.AxesImage at 0x7fd38a04d550>"
      ]
     },
     "execution_count": 7,
     "metadata": {},
     "output_type": "execute_result"
    },
    {
     "data": {
      "image/png": "[encoded data removed]",
      "text/plain": [
       "<Figure size 432x288 with 1 Axes>"
      ]
     },
     "metadata": {
      "needs_background": "light"
     },
     "output_type": "display_data"
    }
   ],
   "source": [
    "import matplotlib.pyplot as plt\n",
    "plt.imshow(db.last_screenshot)"
   ]
  },
  {
   "cell_type": "markdown",
   "id": "characteristic-stick",
   "metadata": {},
   "source": [
    "We can look at the registers as well to see what we have, and then we can take it from there!"
   ]
  },
  {
   "cell_type": "code",
   "execution_count": 8,
   "id": "working-promotion",
   "metadata": {},
   "outputs": [
    {
     "data": {
      "text/plain": [
       "{'memBase': 26837272,\n",
       " 'ip': 9796,\n",
       " 'flags': 29254,\n",
       " 'registers': {'ax': 12909,\n",
       "  'cx': 12909,\n",
       "  'dx': 12909,\n",
       "  'sp': 12909,\n",
       "  'bp': 1543,\n",
       "  'si': 1543,\n",
       "  'di': 1543},\n",
       " 'segments_physical': {'es': 753664,\n",
       "  'cs': 753664,\n",
       "  'ss': 753664,\n",
       "  'ds': 753664,\n",
       "  'fs': 6688,\n",
       "  'gs': 6688},\n",
       " 'segments_values': {'es': 47104,\n",
       "  'cs': 47104,\n",
       "  'ss': 418,\n",
       "  'ds': 418,\n",
       "  'fs': 7652,\n",
       "  'gs': 7652}}"
      ]
     },
     "execution_count": 8,
     "metadata": {},
     "output_type": "execute_result"
    }
   ],
   "source": [
    "db._last_registerdump"
   ]
  }
 ],
 "metadata": {
  "kernelspec": {
   "display_name": "py38",
   "language": "python",
   "name": "py38"
  },
  "language_info": {
   "codemirror_mode": {
    "name": "ipython",
    "version": 3
   },
   "file_extension": ".py",
   "mimetype": "text/x-python",
   "name": "python",
   "nbconvert_exporter": "python",
   "pygments_lexer": "ipython3",
   "version": "3.8.6"
  }
 },
 "nbformat": 4,
 "nbformat_minor": 5
}
